{
  "metadata": {
    "language_info": {
      "name": "python",
      "version": "3.10.13",
      "mimetype": "text/x-python",
      "codemirror_mode": {
        "name": "ipython",
        "version": 3
      },
      "pygments_lexer": "ipython3",
      "nbconvert_exporter": "python",
      "file_extension": ".py"
    },
    "kernelspec": {
      "display_name": "Python 3",
      "name": "python3"
    },
    "kaggle": {
      "accelerator": "none",
      "dataSources": [
        {
          "sourceId": 9243,
          "sourceType": "datasetVersion",
          "datasetId": 2243
        }
      ],
      "dockerImageVersionId": 30646,
      "isInternetEnabled": false,
      "language": "python",
      "sourceType": "notebook",
      "isGpuEnabled": false
    },
    "colab": {
      "provenance": [],
      "gpuType": "T4",
      "include_colab_link": true
    },
    "accelerator": "GPU"
  },
  "nbformat_minor": 0,
  "nbformat": 4,
  "cells": [
    {
      "cell_type": "markdown",
      "metadata": {
        "id": "view-in-github",
        "colab_type": "text"
      },
      "source": [
        "<a href=\"https://colab.research.google.com/github/Vedanti0404/Deep-Learning/blob/main/Assignment_1_Fashion_MNIST_using_ResNet.ipynb\" target=\"_parent\"><img src=\"https://colab.research.google.com/assets/colab-badge.svg\" alt=\"Open In Colab\"/></a>"
      ]
    },
    {
      "cell_type": "markdown",
      "source": [
        "1. *Vanishing Gradient Problem*: When we make neural networks really deep, it becomes hard for them to learn effectively because the information gets lost as it goes through many layers. This is called the \"vanishing gradient problem.\"\n",
        "\n",
        "2. *Residual Blocks*: ResNet solves this problem by using something called \"residual blocks.\" Instead of trying to learn everything from scratch, these blocks learn only the important stuff that's left after passing through earlier layers.\n",
        "\n",
        "3. *Shortcut Connections*: Inside a residual block, we have these special \"shortcut connections\" that directly pass the original input to a deeper layer. This makes it easier for the network to learn because it doesn't have to start from zero each time.\n",
        "\n",
        "4. *Easy Learning*: With these shortcut connections, even if the network doesn't learn much in a certain layer, the input can still flow through to the next layers easily. This makes it simpler for the network to adjust and learn, even in very deep networks.\n",
        "\n",
        "5. *Impressive Results*: Because of these clever tricks, ResNet can be made incredibly deep – even hundreds or thousands of layers – and still be trained effectively. This has led to much better performance in tasks like recognizing objects in images, making ResNet one of the most important advancements in deep learning."
      ],
      "metadata": {
        "id": "vlg0FbJ7RFC8"
      }
    },
    {
      "source": [
        "\n",
        "# IMPORTANT: RUN THIS CELL IN ORDER TO IMPORT YOUR KAGGLE DATA SOURCES\n",
        "# TO THE CORRECT LOCATION (/kaggle/input) IN YOUR NOTEBOOK,\n",
        "# THEN FEEL FREE TO DELETE THIS CELL.\n",
        "# NOTE: THIS NOTEBOOK ENVIRONMENT DIFFERS FROM KAGGLE'S PYTHON\n",
        "# ENVIRONMENT SO THERE MAY BE MISSING LIBRARIES USED BY YOUR\n",
        "# NOTEBOOK.\n",
        "\n",
        "import os\n",
        "import sys\n",
        "from tempfile import NamedTemporaryFile\n",
        "from urllib.request import urlopen\n",
        "from urllib.parse import unquote, urlparse\n",
        "from urllib.error import HTTPError\n",
        "from zipfile import ZipFile\n",
        "import tarfile\n",
        "import shutil\n",
        "\n",
        "CHUNK_SIZE = 40960\n",
        "DATA_SOURCE_MAPPING = ':https%3A%2F%2Fstorage.googleapis.com%2Fkaggle-data-sets%2F2243%2F9243%2Fbundle%2Farchive.zip%3FX-Goog-Algorithm%3DGOOG4-RSA-SHA256%26X-Goog-Credential%3Dgcp-kaggle-com%2540kaggle-161607.iam.gserviceaccount.com%252F20240206%252Fauto%252Fstorage%252Fgoog4_request%26X-Goog-Date%3D20240206T142128Z%26X-Goog-Expires%3D259200%26X-Goog-SignedHeaders%3Dhost%26X-Goog-Signature%3D8e0431b6011239134ceedeb223e830b2739f99d50ce88ac8c98a80603439b6ffdfb663a4379a1dd9c468965063b34884c85d505621f4fd87b3743ce00608a321b8798f7c25663f12893402f48aae846f269c054d1ab6e99973ffe4394fa02dd7439c62f6c7ff073f586be05f6a18764e2a32fb4b017b172a95f0ece4e8f60e707d69504c8984bf9c57ed4d6f1213e2211ceb7592fa11e3bbd97e0a7b806f7217c3a42334690899afa3eb469b6206013f0024af7190d149d6b7a5c5d1caf6b6eefeccb269e100d60729da8b112ac532c67723109daf02c0ea99b5a33a6b2693b8dbbdd8507ca1b8431f964922a35f8a948cc59abf2edaf76b6652e3e0cef41861'\n",
        "\n",
        "KAGGLE_INPUT_PATH='/kaggle/input'\n",
        "KAGGLE_WORKING_PATH='/kaggle/working'\n",
        "KAGGLE_SYMLINK='kaggle'\n",
        "\n",
        "!umount /kaggle/input/ 2> /dev/null\n",
        "shutil.rmtree('/kaggle/input', ignore_errors=True)\n",
        "os.makedirs(KAGGLE_INPUT_PATH, 0o777, exist_ok=True)\n",
        "os.makedirs(KAGGLE_WORKING_PATH, 0o777, exist_ok=True)\n",
        "\n",
        "try:\n",
        "  os.symlink(KAGGLE_INPUT_PATH, os.path.join(\"..\", 'input'), target_is_directory=True)\n",
        "except FileExistsError:\n",
        "  pass\n",
        "try:\n",
        "  os.symlink(KAGGLE_WORKING_PATH, os.path.join(\"..\", 'working'), target_is_directory=True)\n",
        "except FileExistsError:\n",
        "  pass\n",
        "\n",
        "for data_source_mapping in DATA_SOURCE_MAPPING.split(','):\n",
        "    directory, download_url_encoded = data_source_mapping.split(':')\n",
        "    download_url = unquote(download_url_encoded)\n",
        "    filename = urlparse(download_url).path\n",
        "    destination_path = os.path.join(KAGGLE_INPUT_PATH, directory)\n",
        "    try:\n",
        "        with urlopen(download_url) as fileres, NamedTemporaryFile() as tfile:\n",
        "            total_length = fileres.headers['content-length']\n",
        "            print(f'Downloading {directory}, {total_length} bytes compressed')\n",
        "            dl = 0\n",
        "            data = fileres.read(CHUNK_SIZE)\n",
        "            while len(data) > 0:\n",
        "                dl += len(data)\n",
        "                tfile.write(data)\n",
        "                done = int(50 * dl / int(total_length))\n",
        "                sys.stdout.write(f\"\\r[{'=' * done}{' ' * (50-done)}] {dl} bytes downloaded\")\n",
        "                sys.stdout.flush()\n",
        "                data = fileres.read(CHUNK_SIZE)\n",
        "            if filename.endswith('.zip'):\n",
        "              with ZipFile(tfile) as zfile:\n",
        "                zfile.extractall(destination_path)\n",
        "            else:\n",
        "              with tarfile.open(tfile.name) as tarfile:\n",
        "                tarfile.extractall(destination_path)\n",
        "            print(f'\\nDownloaded and uncompressed: {directory}')\n",
        "    except HTTPError as e:\n",
        "        print(f'Failed to load (likely expired) {download_url} to path {destination_path}')\n",
        "        continue\n",
        "    except OSError as e:\n",
        "        print(f'Failed to load {download_url} to path {destination_path}')\n",
        "        continue\n",
        "\n",
        "print('Data source import complete.')\n"
      ],
      "metadata": {
        "colab": {
          "base_uri": "https://localhost:8080/"
        },
        "id": "ABJv-X68y7ax",
        "outputId": "7829facf-b446-4c01-d716-6a1dc016c383"
      },
      "cell_type": "code",
      "outputs": [
        {
          "output_type": "stream",
          "name": "stdout",
          "text": [
            "Downloading , 72114846 bytes compressed\n",
            "[==================================================] 72114846 bytes downloaded\n",
            "Downloaded and uncompressed: \n",
            "Data source import complete.\n"
          ]
        }
      ],
      "execution_count": null
    },
    {
      "cell_type": "code",
      "source": [
        "from __future__ import print_function #Allows Python 2 code to use the print function from Python 3\n",
        "import keras#Keras is a high-level neural networks API, written in Python and capable of running on top of TensorFlow.It provides an easy-to-use interface for building and training neural networks.\n",
        "from keras.layers import Dense, Conv2D, BatchNormalization, Activation#\n",
        "from keras.layers import MaxPooling2D, AveragePooling2D, Input, Flatten#\n",
        "from keras.optimizers import Adam#\n",
        "from keras.callbacks import ModelCheckpoint, ReduceLROnPlateau#Callbacks are functions that can be applied at certain stages of the training process.\n",
        "                                                              #ModelCheckpoint: Callback to save the model after every epoch.\n",
        "                                                              #ReduceLROnPlateau: Callback to reduce learning rate when a metric has stopped improving.\n",
        "\n",
        "from keras.preprocessing.image import ImageDataGenerator#ImageDataGenerator is used for real-time data augmentation during training of neural networks on image data.\n",
        "from keras.regularizers import l2#L2 regularization is a technique used to prevent overfitting in neural networks by penalizing large weights in the model.\n",
        "from keras import backend as K#Keras backend module provides functions that operate on tensors. It allows accessing and manipulating the low-level operations of the backend engine\n",
        "from keras.models import Model#Model class from Keras is used to define a neural network model by specifying its input and output layers\n",
        "import numpy as np#for numerical computing\n",
        "import os\n",
        "import pandas as pd\n",
        "import matplotlib.pyplot as plt\n",
        "%matplotlib inline"
      ],
      "metadata": {
        "_cell_guid": "6aa4dc5c-9848-4be3-a673-3dcf83b5a889",
        "_uuid": "c3df214f9d805a707b85b928b90bf56ae158f2c0",
        "execution": {
          "iopub.status.busy": "2024-02-06T12:40:13.03736Z",
          "iopub.execute_input": "2024-02-06T12:40:13.038047Z",
          "iopub.status.idle": "2024-02-06T12:40:29.926056Z",
          "shell.execute_reply.started": "2024-02-06T12:40:13.038003Z",
          "shell.execute_reply": "2024-02-06T12:40:29.924844Z"
        },
        "trusted": true,
        "id": "o4pPSAosy7a1"
      },
      "execution_count": null,
      "outputs": []
    },
    {
      "cell_type": "code",
      "source": [
        "\n",
        "\n",
        "from subprocess import check_output\n",
        "print(check_output([\"ls\", \"../input\"]).decode(\"utf8\"))\n",
        "train_data = pd.read_csv(\"../input/fashion-mnist_train.csv\")\n",
        "test_data = pd.read_csv(\"../input/fashion-mnist_test.csv\")\n",
        "\n",
        "X_train = train_data.iloc[:,1:].values\n",
        "Y_train = train_data.label.values\n",
        "\n",
        "X_test = test_data.iloc[:,1:].values\n",
        "Y_test = test_data.label.values\n",
        "\n",
        "print(X_test.shape, X_train.shape)\n"
      ],
      "metadata": {
        "_cell_guid": "f357cd3c-742f-429f-ab55-a8842fce6b7c",
        "_uuid": "7e3fcf4409edc1de7ceb7e73197aa7e36a901592",
        "scrolled": true,
        "execution": {
          "iopub.status.busy": "2024-02-06T12:40:29.927894Z",
          "iopub.execute_input": "2024-02-06T12:40:29.928478Z",
          "iopub.status.idle": "2024-02-06T12:40:36.591576Z",
          "shell.execute_reply.started": "2024-02-06T12:40:29.928448Z",
          "shell.execute_reply": "2024-02-06T12:40:36.59044Z"
        },
        "trusted": true,
        "colab": {
          "base_uri": "https://localhost:8080/"
        },
        "id": "oX0BDIxIy7a4",
        "outputId": "ced9d54a-7b47-438c-8a0b-a8afee916ba0"
      },
      "execution_count": null,
      "outputs": [
        {
          "output_type": "stream",
          "name": "stdout",
          "text": [
            "fashion-mnist_test.csv\n",
            "fashion-mnist_train.csv\n",
            "t10k-images-idx3-ubyte\n",
            "t10k-labels-idx1-ubyte\n",
            "train-images-idx3-ubyte\n",
            "train-labels-idx1-ubyte\n",
            "\n",
            "(10000, 784) (60000, 784)\n"
          ]
        }
      ]
    },
    {
      "cell_type": "code",
      "source": [
        "#lets visualize few images\n",
        "sample = np.random.randint(0,high= 59999, size=10)\n",
        "print(sample)\n",
        "sample_img = X_train[sample, :]\n",
        "sample_label = Y_train[sample]\n",
        "for i , img in enumerate(sample_img):\n",
        "    plt.subplot(2,5,i+1)\n",
        "    plt.axis(\"off\")\n",
        "    plt.title(sample_label[i])\n",
        "    img = img.reshape(28,28)\n",
        "    plt.imshow(img)\n",
        "plt.show()\n"
      ],
      "metadata": {
        "_cell_guid": "fa2911b4-8102-4829-9c05-136a5b63719b",
        "_uuid": "faed235ad1f60ac7d4f1463906e869f6b2a3efb1",
        "execution": {
          "iopub.status.busy": "2024-02-06T12:40:36.59274Z",
          "iopub.execute_input": "2024-02-06T12:40:36.593045Z",
          "iopub.status.idle": "2024-02-06T12:40:37.08765Z",
          "shell.execute_reply.started": "2024-02-06T12:40:36.59302Z",
          "shell.execute_reply": "2024-02-06T12:40:37.08635Z"
        },
        "trusted": true,
        "colab": {
          "base_uri": "https://localhost:8080/",
          "height": 363
        },
        "id": "NQukGDavy7a5",
        "outputId": "a4d9bcdc-3db5-472f-db00-32c35c83adfe"
      },
      "execution_count": null,
      "outputs": [
        {
          "output_type": "stream",
          "name": "stdout",
          "text": [
            "[40035  2344  1070 20452 54602 11117 20732 45724 46704 48874]\n"
          ]
        },
        {
          "output_type": "display_data",
          "data": {
            "text/plain": [
              "<Figure size 640x480 with 10 Axes>"
            ],
            "image/png": "[encoded data removed]"
          },
          "metadata": {}
        }
      ]
    },
    {
      "cell_type": "code",
      "source": [
        "#Defining constants\n",
        "epochs = 5\n",
        "batch_size = 100\n",
        "data_augmentation = False\n",
        "img_size = 28\n",
        "\n",
        "num_classes = 10\n",
        "num_filters = 64\n",
        "num_blocks = 4\n",
        "num_sub_blocks = 2\n",
        "use_max_pool = False"
      ],
      "metadata": {
        "_cell_guid": "80cbcdb6-1179-4abd-9afb-dabfb7834688",
        "_uuid": "fd383a1fd6b31b75e130021375727af7789a63c3",
        "execution": {
          "iopub.status.busy": "2024-02-06T12:40:37.090957Z",
          "iopub.execute_input": "2024-02-06T12:40:37.091423Z",
          "iopub.status.idle": "2024-02-06T12:40:37.096778Z",
          "shell.execute_reply.started": "2024-02-06T12:40:37.09139Z",
          "shell.execute_reply": "2024-02-06T12:40:37.095513Z"
        },
        "trusted": true,
        "id": "CgG5cFVXy7a5"
      },
      "execution_count": null,
      "outputs": []
    },
    {
      "cell_type": "code",
      "source": [
        "x_train = X_train.reshape(X_train.shape[0],img_size,img_size,1)\n",
        "x_test = X_test.reshape(X_test.shape[0],img_size,img_size,1)\n",
        "input_size = (img_size, img_size,1)\n",
        "# Normalize data.\n",
        "x_train = x_train.astype('float32') / 255\n",
        "x_test = x_test.astype('float32') / 255\n",
        "print('x_train shape:', x_train.shape)\n",
        "print(x_train.shape[0], 'train samples')\n",
        "print(x_test.shape[0], 'test samples')\n",
        "print('Y_train shape:', Y_train.shape)\n",
        "\n",
        "#Converting labels to one-hot vectors\n",
        "y_train = keras.utils.to_categorical(Y_train, num_classes)\n",
        "y_test = keras.utils.to_categorical(Y_test,num_classes)"
      ],
      "metadata": {
        "_cell_guid": "844ca342-fc0a-4d6d-baf1-b0362afe5615",
        "_uuid": "5b0a486f02987e3291ddced7e03f16b2ce412430",
        "execution": {
          "iopub.status.busy": "2024-02-06T12:40:37.097835Z",
          "iopub.execute_input": "2024-02-06T12:40:37.098831Z",
          "iopub.status.idle": "2024-02-06T12:40:37.254126Z",
          "shell.execute_reply.started": "2024-02-06T12:40:37.098797Z",
          "shell.execute_reply": "2024-02-06T12:40:37.252948Z"
        },
        "trusted": true,
        "colab": {
          "base_uri": "https://localhost:8080/"
        },
        "id": "g0JPWsP-y7a6",
        "outputId": "b00e76a2-328d-464a-dd7c-cc89226174b3"
      },
      "execution_count": null,
      "outputs": [
        {
          "output_type": "stream",
          "name": "stdout",
          "text": [
            "x_train shape: (60000, 28, 28, 1)\n",
            "60000 train samples\n",
            "10000 test samples\n",
            "Y_train shape: (60000,)\n"
          ]
        }
      ]
    },
    {
      "cell_type": "code",
      "source": [
        "#Creating model based on ResNet published archietecture\n",
        "inputs = Input(shape=input_size)\n",
        "x = Conv2D(num_filters, padding='same',\n",
        "           kernel_initializer='he_normal',\n",
        "           kernel_size=7, strides=2,\n",
        "           kernel_regularizer=l2(1e-4))(inputs)\n",
        "x = BatchNormalization()(x)\n",
        "x = Activation('relu')(x)\n",
        "\n",
        "#Check by applying max pooling later (setting it false as size of image is small i.e. 28x28)\n",
        "if use_max_pool:\n",
        "    x = MaxPooling2D(pool_size=3,padding='same', strides=2)(x)\n",
        "    num_blocks =3\n",
        "#Creating Conv base stack\n",
        "\n",
        "# Instantiate convolutional base (stack of blocks).\n",
        "for i in range(num_blocks):\n",
        "    for j in range(num_sub_blocks):\n",
        "        strides = 1\n",
        "        is_first_layer_but_not_first_block = j == 0 and i > 0\n",
        "        if is_first_layer_but_not_first_block:\n",
        "            strides = 2\n",
        "        #Creating residual mapping using y\n",
        "        y = Conv2D(num_filters,\n",
        "                   kernel_size=3,\n",
        "                   padding='same',\n",
        "                   strides=strides,\n",
        "                   kernel_initializer='he_normal',\n",
        "                   kernel_regularizer=l2(1e-4))(x)\n",
        "        y = BatchNormalization()(y)\n",
        "        y = Activation('relu')(y)\n",
        "        y = Conv2D(num_filters,\n",
        "                   kernel_size=3,\n",
        "                   padding='same',\n",
        "                   kernel_initializer='he_normal',\n",
        "                   kernel_regularizer=l2(1e-4))(y)\n",
        "        y = BatchNormalization()(y)\n",
        "        if is_first_layer_but_not_first_block:\n",
        "            x = Conv2D(num_filters,\n",
        "                       kernel_size=1,\n",
        "                       padding='same',\n",
        "                       strides=2,\n",
        "                       kernel_initializer='he_normal',\n",
        "                       kernel_regularizer=l2(1e-4))(x)\n",
        "        #Adding back residual mapping\n",
        "        x = keras.layers.add([x, y])\n",
        "        x = Activation('relu')(x)\n",
        "\n",
        "    num_filters = 2 * num_filters\n",
        "\n",
        "# Add classifier on top.\n",
        "x = AveragePooling2D()(x)\n",
        "y = Flatten()(x)\n",
        "outputs = Dense(num_classes,\n",
        "                activation='softmax',\n",
        "                kernel_initializer='he_normal')(y)\n",
        "\n",
        "# Instantiate and compile model.\n",
        "model = Model(inputs=inputs, outputs=outputs)\n",
        "model.compile(loss='categorical_crossentropy',\n",
        "              optimizer=Adam(),\n",
        "              metrics=['accuracy'])\n",
        "model.summary()\n"
      ],
      "metadata": {
        "_cell_guid": "c504287c-6f01-4b29-9966-f7214d3de3a6",
        "_uuid": "0f9ec760cf3b19ba20d4b2d34cb611c1df6054bb",
        "execution": {
          "iopub.status.busy": "2024-02-06T12:40:37.255298Z",
          "iopub.execute_input": "2024-02-06T12:40:37.25614Z"
        },
        "trusted": true,
        "colab": {
          "base_uri": "https://localhost:8080/"
        },
        "id": "dffY0ylOy7a6",
        "outputId": "f1c5b689-e963-4c4d-8174-e1766233d43a"
      },
      "execution_count": null,
      "outputs": [
        {
          "output_type": "stream",
          "name": "stdout",
          "text": [
            "Model: \"model\"\n",
            "__________________________________________________________________________________________________\n",
            " Layer (type)                Output Shape                 Param #   Connected to                  \n",
            "==================================================================================================\n",
            " input_1 (InputLayer)        [(None, 28, 28, 1)]          0         []                            \n",
            "                                                                                                  \n",
            " conv2d (Conv2D)             (None, 14, 14, 64)           3200      ['input_1[0][0]']             \n",
            "                                                                                                  \n",
            " batch_normalization (Batch  (None, 14, 14, 64)           256       ['conv2d[0][0]']              \n",
            " Normalization)                                                                                   \n",
            "                                                                                                  \n",
            " activation (Activation)     (None, 14, 14, 64)           0         ['batch_normalization[0][0]'] \n",
            "                                                                                                  \n",
            " conv2d_1 (Conv2D)           (None, 14, 14, 64)           36928     ['activation[0][0]']          \n",
            "                                                                                                  \n",
            " batch_normalization_1 (Bat  (None, 14, 14, 64)           256       ['conv2d_1[0][0]']            \n",
            " chNormalization)                                                                                 \n",
            "                                                                                                  \n",
            " activation_1 (Activation)   (None, 14, 14, 64)           0         ['batch_normalization_1[0][0]'\n",
            "                                                                    ]                             \n",
            "                                                                                                  \n",
            " conv2d_2 (Conv2D)           (None, 14, 14, 64)           36928     ['activation_1[0][0]']        \n",
            "                                                                                                  \n",
            " batch_normalization_2 (Bat  (None, 14, 14, 64)           256       ['conv2d_2[0][0]']            \n",
            " chNormalization)                                                                                 \n",
            "                                                                                                  \n",
            " add (Add)                   (None, 14, 14, 64)           0         ['activation[0][0]',          \n",
            "                                                                     'batch_normalization_2[0][0]'\n",
            "                                                                    ]                             \n",
            "                                                                                                  \n",
            " activation_2 (Activation)   (None, 14, 14, 64)           0         ['add[0][0]']                 \n",
            "                                                                                                  \n",
            " conv2d_3 (Conv2D)           (None, 14, 14, 64)           36928     ['activation_2[0][0]']        \n",
            "                                                                                                  \n",
            " batch_normalization_3 (Bat  (None, 14, 14, 64)           256       ['conv2d_3[0][0]']            \n",
            " chNormalization)                                                                                 \n",
            "                                                                                                  \n",
            " activation_3 (Activation)   (None, 14, 14, 64)           0         ['batch_normalization_3[0][0]'\n",
            "                                                                    ]                             \n",
            "                                                                                                  \n",
            " conv2d_4 (Conv2D)           (None, 14, 14, 64)           36928     ['activation_3[0][0]']        \n",
            "                                                                                                  \n",
            " batch_normalization_4 (Bat  (None, 14, 14, 64)           256       ['conv2d_4[0][0]']            \n",
            " chNormalization)                                                                                 \n",
            "                                                                                                  \n",
            " add_1 (Add)                 (None, 14, 14, 64)           0         ['activation_2[0][0]',        \n",
            "                                                                     'batch_normalization_4[0][0]'\n",
            "                                                                    ]                             \n",
            "                                                                                                  \n",
            " activation_4 (Activation)   (None, 14, 14, 64)           0         ['add_1[0][0]']               \n",
            "                                                                                                  \n",
            " conv2d_5 (Conv2D)           (None, 7, 7, 128)            73856     ['activation_4[0][0]']        \n",
            "                                                                                                  \n",
            " batch_normalization_5 (Bat  (None, 7, 7, 128)            512       ['conv2d_5[0][0]']            \n",
            " chNormalization)                                                                                 \n",
            "                                                                                                  \n",
            " activation_5 (Activation)   (None, 7, 7, 128)            0         ['batch_normalization_5[0][0]'\n",
            "                                                                    ]                             \n",
            "                                                                                                  \n",
            " conv2d_6 (Conv2D)           (None, 7, 7, 128)            147584    ['activation_5[0][0]']        \n",
            "                                                                                                  \n",
            " conv2d_7 (Conv2D)           (None, 7, 7, 128)            8320      ['activation_4[0][0]']        \n",
            "                                                                                                  \n",
            " batch_normalization_6 (Bat  (None, 7, 7, 128)            512       ['conv2d_6[0][0]']            \n",
            " chNormalization)                                                                                 \n",
            "                                                                                                  \n",
            " add_2 (Add)                 (None, 7, 7, 128)            0         ['conv2d_7[0][0]',            \n",
            "                                                                     'batch_normalization_6[0][0]'\n",
            "                                                                    ]                             \n",
            "                                                                                                  \n",
            " activation_6 (Activation)   (None, 7, 7, 128)            0         ['add_2[0][0]']               \n",
            "                                                                                                  \n",
            " conv2d_8 (Conv2D)           (None, 7, 7, 128)            147584    ['activation_6[0][0]']        \n",
            "                                                                                                  \n",
            " batch_normalization_7 (Bat  (None, 7, 7, 128)            512       ['conv2d_8[0][0]']            \n",
            " chNormalization)                                                                                 \n",
            "                                                                                                  \n",
            " activation_7 (Activation)   (None, 7, 7, 128)            0         ['batch_normalization_7[0][0]'\n",
            "                                                                    ]                             \n",
            "                                                                                                  \n",
            " conv2d_9 (Conv2D)           (None, 7, 7, 128)            147584    ['activation_7[0][0]']        \n",
            "                                                                                                  \n",
            " batch_normalization_8 (Bat  (None, 7, 7, 128)            512       ['conv2d_9[0][0]']            \n",
            " chNormalization)                                                                                 \n",
            "                                                                                                  \n",
            " add_3 (Add)                 (None, 7, 7, 128)            0         ['activation_6[0][0]',        \n",
            "                                                                     'batch_normalization_8[0][0]'\n",
            "                                                                    ]                             \n",
            "                                                                                                  \n",
            " activation_8 (Activation)   (None, 7, 7, 128)            0         ['add_3[0][0]']               \n",
            "                                                                                                  \n",
            " conv2d_10 (Conv2D)          (None, 4, 4, 256)            295168    ['activation_8[0][0]']        \n",
            "                                                                                                  \n",
            " batch_normalization_9 (Bat  (None, 4, 4, 256)            1024      ['conv2d_10[0][0]']           \n",
            " chNormalization)                                                                                 \n",
            "                                                                                                  \n",
            " activation_9 (Activation)   (None, 4, 4, 256)            0         ['batch_normalization_9[0][0]'\n",
            "                                                                    ]                             \n",
            "                                                                                                  \n",
            " conv2d_11 (Conv2D)          (None, 4, 4, 256)            590080    ['activation_9[0][0]']        \n",
            "                                                                                                  \n",
            " conv2d_12 (Conv2D)          (None, 4, 4, 256)            33024     ['activation_8[0][0]']        \n",
            "                                                                                                  \n",
            " batch_normalization_10 (Ba  (None, 4, 4, 256)            1024      ['conv2d_11[0][0]']           \n",
            " tchNormalization)                                                                                \n",
            "                                                                                                  \n",
            " add_4 (Add)                 (None, 4, 4, 256)            0         ['conv2d_12[0][0]',           \n",
            "                                                                     'batch_normalization_10[0][0]\n",
            "                                                                    ']                            \n",
            "                                                                                                  \n",
            " activation_10 (Activation)  (None, 4, 4, 256)            0         ['add_4[0][0]']               \n",
            "                                                                                                  \n",
            " conv2d_13 (Conv2D)          (None, 4, 4, 256)            590080    ['activation_10[0][0]']       \n",
            "                                                                                                  \n",
            " batch_normalization_11 (Ba  (None, 4, 4, 256)            1024      ['conv2d_13[0][0]']           \n",
            " tchNormalization)                                                                                \n",
            "                                                                                                  \n",
            " activation_11 (Activation)  (None, 4, 4, 256)            0         ['batch_normalization_11[0][0]\n",
            "                                                                    ']                            \n",
            "                                                                                                  \n",
            " conv2d_14 (Conv2D)          (None, 4, 4, 256)            590080    ['activation_11[0][0]']       \n",
            "                                                                                                  \n",
            " batch_normalization_12 (Ba  (None, 4, 4, 256)            1024      ['conv2d_14[0][0]']           \n",
            " tchNormalization)                                                                                \n",
            "                                                                                                  \n",
            " add_5 (Add)                 (None, 4, 4, 256)            0         ['activation_10[0][0]',       \n",
            "                                                                     'batch_normalization_12[0][0]\n",
            "                                                                    ']                            \n",
            "                                                                                                  \n",
            " activation_12 (Activation)  (None, 4, 4, 256)            0         ['add_5[0][0]']               \n",
            "                                                                                                  \n",
            " conv2d_15 (Conv2D)          (None, 2, 2, 512)            1180160   ['activation_12[0][0]']       \n",
            "                                                                                                  \n",
            " batch_normalization_13 (Ba  (None, 2, 2, 512)            2048      ['conv2d_15[0][0]']           \n",
            " tchNormalization)                                                                                \n",
            "                                                                                                  \n",
            " activation_13 (Activation)  (None, 2, 2, 512)            0         ['batch_normalization_13[0][0]\n",
            "                                                                    ']                            \n",
            "                                                                                                  \n",
            " conv2d_16 (Conv2D)          (None, 2, 2, 512)            2359808   ['activation_13[0][0]']       \n",
            "                                                                                                  \n",
            " conv2d_17 (Conv2D)          (None, 2, 2, 512)            131584    ['activation_12[0][0]']       \n",
            "                                                                                                  \n",
            " batch_normalization_14 (Ba  (None, 2, 2, 512)            2048      ['conv2d_16[0][0]']           \n",
            " tchNormalization)                                                                                \n",
            "                                                                                                  \n",
            " add_6 (Add)                 (None, 2, 2, 512)            0         ['conv2d_17[0][0]',           \n",
            "                                                                     'batch_normalization_14[0][0]\n",
            "                                                                    ']                            \n",
            "                                                                                                  \n",
            " activation_14 (Activation)  (None, 2, 2, 512)            0         ['add_6[0][0]']               \n",
            "                                                                                                  \n",
            " conv2d_18 (Conv2D)          (None, 2, 2, 512)            2359808   ['activation_14[0][0]']       \n",
            "                                                                                                  \n",
            " batch_normalization_15 (Ba  (None, 2, 2, 512)            2048      ['conv2d_18[0][0]']           \n",
            " tchNormalization)                                                                                \n",
            "                                                                                                  \n",
            " activation_15 (Activation)  (None, 2, 2, 512)            0         ['batch_normalization_15[0][0]\n",
            "                                                                    ']                            \n",
            "                                                                                                  \n",
            " conv2d_19 (Conv2D)          (None, 2, 2, 512)            2359808   ['activation_15[0][0]']       \n",
            "                                                                                                  \n",
            " batch_normalization_16 (Ba  (None, 2, 2, 512)            2048      ['conv2d_19[0][0]']           \n",
            " tchNormalization)                                                                                \n",
            "                                                                                                  \n",
            " add_7 (Add)                 (None, 2, 2, 512)            0         ['activation_14[0][0]',       \n",
            "                                                                     'batch_normalization_16[0][0]\n",
            "                                                                    ']                            \n",
            "                                                                                                  \n",
            " activation_16 (Activation)  (None, 2, 2, 512)            0         ['add_7[0][0]']               \n",
            "                                                                                                  \n",
            " average_pooling2d (Average  (None, 1, 1, 512)            0         ['activation_16[0][0]']       \n",
            " Pooling2D)                                                                                       \n",
            "                                                                                                  \n",
            " flatten (Flatten)           (None, 512)                  0         ['average_pooling2d[0][0]']   \n",
            "                                                                                                  \n",
            " dense (Dense)               (None, 10)                   5130      ['flatten[0][0]']             \n",
            "                                                                                                  \n",
            "==================================================================================================\n",
            "Total params: 11186186 (42.67 MB)\n",
            "Trainable params: 11178378 (42.64 MB)\n",
            "Non-trainable params: 7808 (30.50 KB)\n",
            "__________________________________________________________________________________________________\n"
          ]
        }
      ]
    },
    {
      "cell_type": "code",
      "source": [
        "save_dir = os.path.join(os.getcwd(), 'saved_model')\n",
        "model_name = 'fmnist_resnet_model.h5'\n",
        "if not os.path.isdir(save_dir):\n",
        "    os.makedirs(save_dir)\n",
        "filepath = os.path.join(save_dir,model_name)\n",
        "print(filepath)"
      ],
      "metadata": {
        "_cell_guid": "3955aa3b-6c24-4853-9863-4b034b8d53e4",
        "_uuid": "9125075dd35470d6c0522585ec367dcc9021fb88",
        "trusted": true,
        "colab": {
          "base_uri": "https://localhost:8080/"
        },
        "id": "aUJuysq5y7a8",
        "outputId": "544b9de5-2946-4370-d6b3-1bb36c2328ba"
      },
      "execution_count": null,
      "outputs": [
        {
          "output_type": "stream",
          "name": "stdout",
          "text": [
            "/content/saved_model/fmnist_resnet_model.h5\n"
          ]
        }
      ]
    },
    {
      "cell_type": "code",
      "source": [
        "# Prepare callbacks for model saving and for learning rate decaying.\n",
        "checkpoint = ModelCheckpoint(filepath=filepath,\n",
        "                             verbose=1,\n",
        "                             save_best_only=True)\n",
        "lr_reducer = ReduceLROnPlateau(factor=np.sqrt(0.1),\n",
        "                               cooldown=0,\n",
        "                               patience=5,\n",
        "                               min_lr=0.5e-6)\n",
        "callbacks = [checkpoint, lr_reducer]"
      ],
      "metadata": {
        "_cell_guid": "6c802f2e-11e7-4384-9bc3-d2ab85cb7c17",
        "_uuid": "933596da245a4934ce9a5561e818cfd24257abee",
        "trusted": true,
        "id": "s7oYpoUCy7a9"
      },
      "execution_count": null,
      "outputs": []
    },
    {
      "cell_type": "code",
      "source": [
        "if not data_augmentation:\n",
        "    print('Not using data augmentation.')\n",
        "    history=model.fit(x_train, y_train,\n",
        "              batch_size=batch_size,\n",
        "              epochs=epochs,\n",
        "              validation_data=(x_test, y_test),\n",
        "              shuffle=True,\n",
        "              callbacks=callbacks)"
      ],
      "metadata": {
        "_cell_guid": "232cad73-e930-4522-a5df-4ed7d000e3bc",
        "_uuid": "56b9b6ab82a55d3ae8779d283b503ee119f1a9ef",
        "trusted": true,
        "colab": {
          "base_uri": "https://localhost:8080/"
        },
        "id": "eyTbtmYIy7a-",
        "outputId": "7f773045-8223-4556-b838-8d9b6a315efd"
      },
      "execution_count": null,
      "outputs": [
        {
          "output_type": "stream",
          "name": "stdout",
          "text": [
            "Not using data augmentation.\n",
            "Epoch 1/5\n",
            "599/600 [============================>.] - ETA: 0s - loss: 1.2046 - accuracy: 0.8469\n",
            "Epoch 1: val_loss improved from inf to 0.89918, saving model to /content/saved_model/fmnist_resnet_model.h5\n"
          ]
        },
        {
          "output_type": "stream",
          "name": "stderr",
          "text": [
            "/usr/local/lib/python3.10/dist-packages/keras/src/engine/training.py:3103: UserWarning: You are saving your model as an HDF5 file via `model.save()`. This file format is considered legacy. We recommend using instead the native Keras format, e.g. `model.save('my_model.keras')`.\n",
            "  saving_api.save_model(\n"
          ]
        },
        {
          "output_type": "stream",
          "name": "stdout",
          "text": [
            "\b\b\b\b\b\b\b\b\b\b\b\b\b\b\b\b\b\b\b\b\b\b\b\b\b\b\b\b\b\b\b\b\b\b\b\b\b\b\b\b\b\b\b\b\b\b\b\b\b\b\b\b\b\b\b\b\b\b\b\b\b\b\b\b\b\b\b\b\b\b\b\b\b\b\b\b\b\b\b\b\b\b\b\b\r600/600 [==============================] - 49s 44ms/step - loss: 1.2042 - accuracy: 0.8469 - val_loss: 0.8992 - val_accuracy: 0.8842 - lr: 0.0010\n",
            "Epoch 2/5\n",
            "599/600 [============================>.] - ETA: 0s - loss: 0.7672 - accuracy: 0.8956\n",
            "Epoch 2: val_loss improved from 0.89918 to 0.74907, saving model to /content/saved_model/fmnist_resnet_model.h5\n",
            "600/600 [==============================] - 26s 43ms/step - loss: 0.7670 - accuracy: 0.8957 - val_loss: 0.7491 - val_accuracy: 0.8649 - lr: 0.0010\n",
            "Epoch 3/5\n",
            "600/600 [==============================] - ETA: 0s - loss: 0.5931 - accuracy: 0.9093\n",
            "Epoch 3: val_loss improved from 0.74907 to 0.56950, saving model to /content/saved_model/fmnist_resnet_model.h5\n",
            "600/600 [==============================] - 26s 44ms/step - loss: 0.5931 - accuracy: 0.9093 - val_loss: 0.5695 - val_accuracy: 0.8989 - lr: 0.0010\n",
            "Epoch 4/5\n",
            "600/600 [==============================] - ETA: 0s - loss: 0.5002 - accuracy: 0.9190\n",
            "Epoch 4: val_loss improved from 0.56950 to 0.55505, saving model to /content/saved_model/fmnist_resnet_model.h5\n",
            "600/600 [==============================] - 26s 43ms/step - loss: 0.5002 - accuracy: 0.9190 - val_loss: 0.5550 - val_accuracy: 0.8914 - lr: 0.0010\n",
            "Epoch 5/5\n",
            "599/600 [============================>.] - ETA: 0s - loss: 0.4418 - accuracy: 0.9262\n",
            "Epoch 5: val_loss improved from 0.55505 to 0.49797, saving model to /content/saved_model/fmnist_resnet_model.h5\n",
            "600/600 [==============================] - 26s 44ms/step - loss: 0.4420 - accuracy: 0.9261 - val_loss: 0.4980 - val_accuracy: 0.8988 - lr: 0.0010\n"
          ]
        }
      ]
    },
    {
      "cell_type": "code",
      "source": [
        "test_loss,test_accuracy = model.evaluate(x_test, y_test, verbose=1)\n",
        "print('Test loss:', test_loss)\n",
        "print('Test accuracy:', test_accuracy)"
      ],
      "metadata": {
        "_cell_guid": "57948265-3c5e-4ca3-b853-d8b79a200c6c",
        "_uuid": "dde791604b85916aa821f3676a4c2394a695a623",
        "trusted": true,
        "colab": {
          "base_uri": "https://localhost:8080/"
        },
        "id": "J4QHHyeFy7a-",
        "outputId": "370ba983-7ec8-461e-cdbb-acfb0733c928"
      },
      "execution_count": null,
      "outputs": [
        {
          "output_type": "stream",
          "name": "stdout",
          "text": [
            "313/313 [==============================] - 4s 8ms/step - loss: 0.4980 - accuracy: 0.8988\n",
            "Test loss: 0.4979650378227234\n",
            "Test accuracy: 0.8988000154495239\n"
          ]
        }
      ]
    },
    {
      "cell_type": "code",
      "source": [
        "# Plot training and validation accuracy\n",
        "plt.plot(history.history['accuracy'], label='Training Accuracy')\n",
        "plt.plot(history.history['val_accuracy'], label='Validation Accuracy')\n",
        "plt.xlabel('Epoch')\n",
        "plt.ylabel('Accuracy')\n",
        "plt.title('Training and Validation Accuracy')\n",
        "plt.legend()\n",
        "plt.show()\n",
        "\n"
      ],
      "metadata": {
        "_cell_guid": "9a790b99-fd5e-418f-937d-688dd403c680",
        "_uuid": "d2889cb1f62c296ab42268bd1e9f79df3d9fc729",
        "collapsed": true,
        "jupyter": {
          "outputs_hidden": true
        },
        "colab": {
          "base_uri": "https://localhost:8080/",
          "height": 472
        },
        "id": "8nN4eI3Ty7a_",
        "outputId": "be807cea-9cae-4018-ca8b-85504190ee52"
      },
      "execution_count": null,
      "outputs": [
        {
          "output_type": "display_data",
          "data": {
            "text/plain": [
              "<Figure size 640x480 with 1 Axes>"
            ],
            "image/png": "[encoded data removed]"
          },
          "metadata": {}
        }
      ]
    },
    {
      "cell_type": "code",
      "source": [
        "# Plot training and validation loss\n",
        "plt.plot(history.history['loss'], label='Training Loss')\n",
        "plt.plot(history.history['val_loss'], label='Validation Loss')\n",
        "plt.xlabel('Epoch')\n",
        "plt.ylabel('Loss')\n",
        "plt.title('Training and Validation Loss')\n",
        "plt.legend()\n",
        "plt.show()"
      ],
      "metadata": {
        "colab": {
          "base_uri": "https://localhost:8080/",
          "height": 472
        },
        "id": "lF8A09F_zkn-",
        "outputId": "48dce60f-4c38-4099-88f0-90087a37fe36"
      },
      "execution_count": null,
      "outputs": [
        {
          "output_type": "display_data",
          "data": {
            "text/plain": [
              "<Figure size 640x480 with 1 Axes>"
            ],
            "image/png": "[encoded data removed]"
          },
          "metadata": {}
        }
      ]
    },
    {
      "cell_type": "code",
      "source": [],
      "metadata": {
        "id": "vnR-IDaWQjJF"
      },
      "execution_count": null,
      "outputs": []
    }
  ]
}