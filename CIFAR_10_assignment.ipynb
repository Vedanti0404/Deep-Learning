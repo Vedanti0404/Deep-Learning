{
  "cells": [
    {
      "cell_type": "markdown",
      "metadata": {
        "id": "view-in-github",
        "colab_type": "text"
      },
      "source": [
        "<a href=\"https://colab.research.google.com/github/Vedanti0404/Deep-Learning/blob/main/CIFAR_10_assignment.ipynb\" target=\"_parent\"><img src=\"https://colab.research.google.com/assets/colab-badge.svg\" alt=\"Open In Colab\"/></a>"
      ]
    },
    {
      "cell_type": "code",
      "execution_count": null,
      "metadata": {
        "id": "5fcXE3iUV4fE"
      },
      "outputs": [],
      "source": [
        "from __future__ import print_function\n",
        "import keras\n",
        "from keras.datasets import cifar10\n",
        "from keras.preprocessing.image import ImageDataGenerator\n",
        "from keras.models import Sequential\n",
        "from keras.layers import Dense, Dropout, Activation\n",
        "from keras.layers import Conv2D, MaxPooling2D, GlobalMaxPooling2D"
      ]
    },
    {
      "cell_type": "code",
      "execution_count": null,
      "metadata": {
        "collapsed": true,
        "id": "jK7gwTWRV4fK"
      },
      "outputs": [],
      "source": [
        "batch_size = 32\n",
        "num_classes = 10\n",
        "epochs = 100\n",
        "data_augmentation = True"
      ]
    },
    {
      "cell_type": "code",
      "execution_count": null,
      "metadata": {
        "colab": {
          "base_uri": "https://localhost:8080/"
        },
        "id": "vwj4AWPyV4fM",
        "outputId": "f1bce513-eb34-4870-a88c-f969447c0164"
      },
      "outputs": [
        {
          "output_type": "stream",
          "name": "stdout",
          "text": [
            "Downloading data from https://www.cs.toronto.edu/~kriz/cifar-10-python.tar.gz\n",
            "170498071/170498071 [==============================] - 4s 0us/step\n",
            "x_train shape: (50000, 32, 32, 3)\n",
            "50000 train samples\n",
            "10000 test samples\n"
          ]
        }
      ],
      "source": [
        "# The data, shuffled and split between train and test sets:\n",
        "(x_train, y_train), (x_test, y_test) = cifar10.load_data()\n",
        "print('x_train shape:', x_train.shape)\n",
        "print(x_train.shape[0], 'train samples')\n",
        "print(x_test.shape[0], 'test samples')\n",
        "# Convert class vectors to binary class matrices.\n",
        "y_train = keras.utils.to_categorical(y_train, num_classes)\n",
        "y_test = keras.utils.to_categorical(y_test, num_classes)"
      ]
    },
    {
      "cell_type": "code",
      "execution_count": null,
      "metadata": {
        "colab": {
          "base_uri": "https://localhost:8080/"
        },
        "id": "BId0dBESV4fR",
        "outputId": "8911e47b-e45b-4de5-e988-cd296d86b1c0"
      },
      "outputs": [
        {
          "output_type": "stream",
          "name": "stderr",
          "text": [
            "WARNING:absl:`lr` is deprecated in Keras optimizer, please use `learning_rate` or use the legacy optimizer, e.g.,tf.keras.optimizers.legacy.Adam.\n"
          ]
        },
        {
          "output_type": "stream",
          "name": "stdout",
          "text": [
            "Model: \"sequential_1\"\n",
            "_________________________________________________________________\n",
            " Layer (type)                Output Shape              Param #   \n",
            "=================================================================\n",
            " conv2d (Conv2D)             (None, 32, 32, 32)        896       \n",
            "                                                                 \n",
            " activation (Activation)     (None, 32, 32, 32)        0         \n",
            "                                                                 \n",
            " conv2d_1 (Conv2D)           (None, 32, 32, 48)        13872     \n",
            "                                                                 \n",
            " activation_1 (Activation)   (None, 32, 32, 48)        0         \n",
            "                                                                 \n",
            " max_pooling2d (MaxPooling2  (None, 16, 16, 48)        0         \n",
            " D)                                                              \n",
            "                                                                 \n",
            " dropout (Dropout)           (None, 16, 16, 48)        0         \n",
            "                                                                 \n",
            " conv2d_2 (Conv2D)           (None, 16, 16, 80)        34640     \n",
            "                                                                 \n",
            " activation_2 (Activation)   (None, 16, 16, 80)        0         \n",
            "                                                                 \n",
            " max_pooling2d_1 (MaxPoolin  (None, 8, 8, 80)          0         \n",
            " g2D)                                                            \n",
            "                                                                 \n",
            " dropout_1 (Dropout)         (None, 8, 8, 80)          0         \n",
            "                                                                 \n",
            " conv2d_3 (Conv2D)           (None, 8, 8, 128)         92288     \n",
            "                                                                 \n",
            " global_max_pooling2d (Glob  (None, 128)               0         \n",
            " alMaxPooling2D)                                                 \n",
            "                                                                 \n",
            " dropout_2 (Dropout)         (None, 128)               0         \n",
            "                                                                 \n",
            " dense (Dense)               (None, 500)               64500     \n",
            "                                                                 \n",
            " activation_3 (Activation)   (None, 500)               0         \n",
            "                                                                 \n",
            " dropout_3 (Dropout)         (None, 500)               0         \n",
            "                                                                 \n",
            " dense_1 (Dense)             (None, 10)                5010      \n",
            "                                                                 \n",
            " activation_4 (Activation)   (None, 10)                0         \n",
            "                                                                 \n",
            "=================================================================\n",
            "Total params: 211206 (825.02 KB)\n",
            "Trainable params: 211206 (825.02 KB)\n",
            "Non-trainable params: 0 (0.00 Byte)\n",
            "_________________________________________________________________\n"
          ]
        }
      ],
      "source": [
        "model = Sequential()\n",
        "model = Sequential()\n",
        "model.add(Conv2D(32, (3, 3), padding='same',\n",
        "                 input_shape=x_train.shape[1:]))\n",
        "model.add(Activation('relu'))\n",
        "model.add(Conv2D(48, (3, 3), padding='same',\n",
        "                 input_shape=x_train.shape[1:]))\n",
        "model.add(Activation('relu'))\n",
        "model.add(MaxPooling2D(pool_size=(2, 2)))\n",
        "model.add(Dropout(0.25))\n",
        "model.add(Conv2D(80, (3, 3), padding='same',\n",
        "                 input_shape=x_train.shape[1:]))\n",
        "model.add(Activation('relu'))\n",
        "model.add(MaxPooling2D(pool_size=(2, 2)))\n",
        "model.add(Dropout(0.25))\n",
        "model.add(Conv2D(128, (3, 3), padding='same',\n",
        "                 input_shape=x_train.shape[1:]))\n",
        "model.add(GlobalMaxPooling2D())\n",
        "model.add(Dropout(0.25))\n",
        "model.add(Dense(500))\n",
        "model.add(Activation('relu'))\n",
        "model.add(Dropout(0.25))\n",
        "model.add(Dense(num_classes))\n",
        "model.add(Activation('softmax'))\n",
        "# initiate RMSprop optimizer\n",
        "opt = keras.optimizers.Adam(lr=0.0001)\n",
        "# Let's train the model using RMSprop\n",
        "model.compile(loss='categorical_crossentropy',\n",
        "              optimizer=opt,\n",
        "              metrics=['accuracy'])\n",
        "model.summary()"
      ]
    },
    {
      "cell_type": "code",
      "execution_count": null,
      "metadata": {
        "id": "HoKRo19zV4fT"
      },
      "outputs": [],
      "source": [
        "x_train = x_train.astype('float32')\n",
        "x_test = x_test.astype('float32')\n",
        "x_train /= 255\n",
        "x_test /= 255\n",
        "tbCallBack = keras.callbacks.TensorBoard(log_dir='./Graph2', histogram_freq=0, write_graph=True, write_images=True)"
      ]
    },
    {
      "cell_type": "code",
      "execution_count": null,
      "metadata": {
        "colab": {
          "base_uri": "https://localhost:8080/"
        },
        "id": "rlWzmS0SV4fU",
        "outputId": "e5b6cebf-84e1-44c0-cde7-967aee80f9a6"
      },
      "outputs": [
        {
          "output_type": "stream",
          "name": "stdout",
          "text": [
            "Using real-time data augmentation.\n"
          ]
        },
        {
          "output_type": "stream",
          "name": "stderr",
          "text": [
            "<ipython-input-6-c0aa93279554>:42: UserWarning: `Model.fit_generator` is deprecated and will be removed in a future version. Please use `Model.fit`, which supports generators.\n",
            "  model.fit_generator(datagen.flow(x_train, y_train,\n"
          ]
        },
        {
          "output_type": "stream",
          "name": "stdout",
          "text": [
            "Epoch 1/100\n",
            "1562/1562 [==============================] - 45s 25ms/step - loss: 1.7310 - accuracy: 0.3523 - val_loss: 1.2974 - val_accuracy: 0.5296\n",
            "Epoch 2/100\n",
            "1562/1562 [==============================] - 36s 23ms/step - loss: 1.3547 - accuracy: 0.5095 - val_loss: 1.1264 - val_accuracy: 0.5914\n",
            "Epoch 3/100\n",
            "1562/1562 [==============================] - 37s 24ms/step - loss: 1.2232 - accuracy: 0.5601 - val_loss: 1.0432 - val_accuracy: 0.6265\n",
            "Epoch 4/100\n",
            "1562/1562 [==============================] - 37s 24ms/step - loss: 1.1552 - accuracy: 0.5864 - val_loss: 0.9959 - val_accuracy: 0.6374\n",
            "Epoch 5/100\n",
            "1562/1562 [==============================] - 37s 24ms/step - loss: 1.0991 - accuracy: 0.6107 - val_loss: 0.9498 - val_accuracy: 0.6607\n",
            "Epoch 6/100\n",
            "1562/1562 [==============================] - 36s 23ms/step - loss: 1.0588 - accuracy: 0.6240 - val_loss: 1.0113 - val_accuracy: 0.6475\n",
            "Epoch 7/100\n",
            "1562/1562 [==============================] - 37s 24ms/step - loss: 1.0365 - accuracy: 0.6339 - val_loss: 0.8774 - val_accuracy: 0.6902\n",
            "Epoch 8/100\n",
            "1562/1562 [==============================] - 36s 23ms/step - loss: 1.0041 - accuracy: 0.6451 - val_loss: 0.8579 - val_accuracy: 0.6936\n",
            "Epoch 9/100\n",
            "1562/1562 [==============================] - 36s 23ms/step - loss: 0.9916 - accuracy: 0.6505 - val_loss: 0.8020 - val_accuracy: 0.7115\n",
            "Epoch 10/100\n",
            "1562/1562 [==============================] - 37s 24ms/step - loss: 0.9763 - accuracy: 0.6555 - val_loss: 0.9128 - val_accuracy: 0.6787\n",
            "Epoch 11/100\n",
            "1562/1562 [==============================] - 37s 23ms/step - loss: 0.9634 - accuracy: 0.6621 - val_loss: 0.8103 - val_accuracy: 0.7136\n",
            "Epoch 12/100\n",
            "1562/1562 [==============================] - 37s 23ms/step - loss: 0.9476 - accuracy: 0.6647 - val_loss: 0.8011 - val_accuracy: 0.7204\n",
            "Epoch 13/100\n",
            "1562/1562 [==============================] - 37s 24ms/step - loss: 0.9323 - accuracy: 0.6736 - val_loss: 0.8073 - val_accuracy: 0.7161\n",
            "Epoch 14/100\n",
            "1562/1562 [==============================] - 36s 23ms/step - loss: 0.9303 - accuracy: 0.6744 - val_loss: 0.7636 - val_accuracy: 0.7369\n",
            "Epoch 15/100\n",
            "1562/1562 [==============================] - 37s 24ms/step - loss: 0.9232 - accuracy: 0.6764 - val_loss: 0.8147 - val_accuracy: 0.7151\n",
            "Epoch 16/100\n",
            "1562/1562 [==============================] - 36s 23ms/step - loss: 0.9165 - accuracy: 0.6805 - val_loss: 0.7669 - val_accuracy: 0.7323\n",
            "Epoch 17/100\n",
            "1562/1562 [==============================] - 37s 24ms/step - loss: 0.9110 - accuracy: 0.6809 - val_loss: 0.7419 - val_accuracy: 0.7388\n",
            "Epoch 18/100\n",
            "1562/1562 [==============================] - 36s 23ms/step - loss: 0.8942 - accuracy: 0.6892 - val_loss: 0.7518 - val_accuracy: 0.7389\n",
            "Epoch 19/100\n",
            "1562/1562 [==============================] - 37s 23ms/step - loss: 0.8907 - accuracy: 0.6878 - val_loss: 0.7442 - val_accuracy: 0.7426\n",
            "Epoch 20/100\n",
            "1562/1562 [==============================] - 36s 23ms/step - loss: 0.8881 - accuracy: 0.6906 - val_loss: 0.7675 - val_accuracy: 0.7323\n",
            "Epoch 21/100\n",
            "1562/1562 [==============================] - 36s 23ms/step - loss: 0.8847 - accuracy: 0.6883 - val_loss: 0.7688 - val_accuracy: 0.7349\n",
            "Epoch 22/100\n",
            "1562/1562 [==============================] - 37s 23ms/step - loss: 0.8795 - accuracy: 0.6924 - val_loss: 0.7601 - val_accuracy: 0.7325\n",
            "Epoch 23/100\n",
            "1562/1562 [==============================] - 37s 24ms/step - loss: 0.8687 - accuracy: 0.6971 - val_loss: 0.7487 - val_accuracy: 0.7428\n",
            "Epoch 24/100\n",
            "1562/1562 [==============================] - 36s 23ms/step - loss: 0.8678 - accuracy: 0.6991 - val_loss: 0.7615 - val_accuracy: 0.7358\n",
            "Epoch 25/100\n",
            "1562/1562 [==============================] - 36s 23ms/step - loss: 0.8670 - accuracy: 0.7006 - val_loss: 0.7685 - val_accuracy: 0.7365\n",
            "Epoch 26/100\n",
            "1562/1562 [==============================] - 37s 24ms/step - loss: 0.8673 - accuracy: 0.6985 - val_loss: 0.7392 - val_accuracy: 0.7413\n",
            "Epoch 27/100\n",
            "1562/1562 [==============================] - 37s 24ms/step - loss: 0.8582 - accuracy: 0.6997 - val_loss: 0.7580 - val_accuracy: 0.7408\n",
            "Epoch 28/100\n",
            "1562/1562 [==============================] - 37s 24ms/step - loss: 0.8546 - accuracy: 0.7069 - val_loss: 0.7354 - val_accuracy: 0.7477\n",
            "Epoch 29/100\n",
            "1562/1562 [==============================] - 37s 24ms/step - loss: 0.8595 - accuracy: 0.7019 - val_loss: 0.7878 - val_accuracy: 0.7310\n",
            "Epoch 30/100\n",
            "1562/1562 [==============================] - 37s 24ms/step - loss: 0.8473 - accuracy: 0.7071 - val_loss: 0.6905 - val_accuracy: 0.7603\n",
            "Epoch 31/100\n",
            "1562/1562 [==============================] - 38s 24ms/step - loss: 0.8516 - accuracy: 0.7061 - val_loss: 0.7337 - val_accuracy: 0.7416\n",
            "Epoch 32/100\n",
            "1562/1562 [==============================] - 45s 29ms/step - loss: 0.8482 - accuracy: 0.7086 - val_loss: 0.7844 - val_accuracy: 0.7333\n",
            "Epoch 33/100\n",
            "1562/1562 [==============================] - 37s 24ms/step - loss: 0.8413 - accuracy: 0.7107 - val_loss: 0.7028 - val_accuracy: 0.7548\n",
            "Epoch 34/100\n",
            "1562/1562 [==============================] - 37s 24ms/step - loss: 0.8437 - accuracy: 0.7078 - val_loss: 0.7688 - val_accuracy: 0.7365\n",
            "Epoch 35/100\n",
            "1562/1562 [==============================] - 38s 24ms/step - loss: 0.8446 - accuracy: 0.7079 - val_loss: 0.6935 - val_accuracy: 0.7552\n",
            "Epoch 36/100\n",
            "1562/1562 [==============================] - 38s 24ms/step - loss: 0.8408 - accuracy: 0.7098 - val_loss: 0.6653 - val_accuracy: 0.7701\n",
            "Epoch 37/100\n",
            "1562/1562 [==============================] - 38s 24ms/step - loss: 0.8341 - accuracy: 0.7121 - val_loss: 0.7476 - val_accuracy: 0.7447\n",
            "Epoch 38/100\n",
            "1562/1562 [==============================] - 38s 24ms/step - loss: 0.8316 - accuracy: 0.7146 - val_loss: 0.7549 - val_accuracy: 0.7465\n",
            "Epoch 39/100\n",
            "1562/1562 [==============================] - 37s 24ms/step - loss: 0.8449 - accuracy: 0.7079 - val_loss: 0.6864 - val_accuracy: 0.7630\n",
            "Epoch 40/100\n",
            "1562/1562 [==============================] - 37s 23ms/step - loss: 0.8326 - accuracy: 0.7125 - val_loss: 0.6896 - val_accuracy: 0.7617\n",
            "Epoch 41/100\n",
            "1562/1562 [==============================] - 37s 24ms/step - loss: 0.8255 - accuracy: 0.7148 - val_loss: 0.6680 - val_accuracy: 0.7709\n",
            "Epoch 42/100\n",
            "1562/1562 [==============================] - 38s 24ms/step - loss: 0.8240 - accuracy: 0.7154 - val_loss: 0.7288 - val_accuracy: 0.7553\n",
            "Epoch 43/100\n",
            "1562/1562 [==============================] - 37s 24ms/step - loss: 0.8295 - accuracy: 0.7157 - val_loss: 0.7327 - val_accuracy: 0.7520\n",
            "Epoch 44/100\n",
            "1562/1562 [==============================] - 41s 26ms/step - loss: 0.8209 - accuracy: 0.7171 - val_loss: 0.7047 - val_accuracy: 0.7612\n",
            "Epoch 45/100\n",
            "1562/1562 [==============================] - 41s 27ms/step - loss: 0.8162 - accuracy: 0.7171 - val_loss: 0.6809 - val_accuracy: 0.7707\n",
            "Epoch 46/100\n",
            "1562/1562 [==============================] - 39s 25ms/step - loss: 0.8253 - accuracy: 0.7145 - val_loss: 0.6487 - val_accuracy: 0.7758\n",
            "Epoch 47/100\n",
            "1562/1562 [==============================] - 39s 25ms/step - loss: 0.8156 - accuracy: 0.7197 - val_loss: 0.6894 - val_accuracy: 0.7582\n",
            "Epoch 48/100\n",
            "1562/1562 [==============================] - 40s 26ms/step - loss: 0.8167 - accuracy: 0.7184 - val_loss: 0.7370 - val_accuracy: 0.7530\n",
            "Epoch 49/100\n",
            "1562/1562 [==============================] - 40s 25ms/step - loss: 0.8168 - accuracy: 0.7174 - val_loss: 0.7322 - val_accuracy: 0.7505\n",
            "Epoch 50/100\n",
            "1562/1562 [==============================] - 41s 26ms/step - loss: 0.8150 - accuracy: 0.7207 - val_loss: 0.6998 - val_accuracy: 0.7626\n",
            "Epoch 51/100\n",
            "1562/1562 [==============================] - 43s 28ms/step - loss: 0.8121 - accuracy: 0.7219 - val_loss: 0.7728 - val_accuracy: 0.7413\n",
            "Epoch 52/100\n",
            "1562/1562 [==============================] - 40s 25ms/step - loss: 0.8074 - accuracy: 0.7212 - val_loss: 0.6743 - val_accuracy: 0.7715\n",
            "Epoch 53/100\n",
            "1562/1562 [==============================] - 39s 25ms/step - loss: 0.8070 - accuracy: 0.7234 - val_loss: 0.6690 - val_accuracy: 0.7705\n",
            "Epoch 54/100\n",
            "1562/1562 [==============================] - 37s 24ms/step - loss: 0.8067 - accuracy: 0.7217 - val_loss: 0.6773 - val_accuracy: 0.7726\n",
            "Epoch 55/100\n",
            "1562/1562 [==============================] - 37s 24ms/step - loss: 0.8081 - accuracy: 0.7201 - val_loss: 0.7313 - val_accuracy: 0.7533\n",
            "Epoch 56/100\n",
            "1562/1562 [==============================] - 40s 25ms/step - loss: 0.8170 - accuracy: 0.7188 - val_loss: 0.7369 - val_accuracy: 0.7485\n",
            "Epoch 57/100\n",
            "1562/1562 [==============================] - 46s 29ms/step - loss: 0.8023 - accuracy: 0.7246 - val_loss: 0.7436 - val_accuracy: 0.7438\n",
            "Epoch 58/100\n",
            "1562/1562 [==============================] - 38s 25ms/step - loss: 0.8006 - accuracy: 0.7254 - val_loss: 0.6951 - val_accuracy: 0.7621\n",
            "Epoch 59/100\n",
            "1562/1562 [==============================] - 38s 24ms/step - loss: 0.8033 - accuracy: 0.7258 - val_loss: 0.6849 - val_accuracy: 0.7689\n",
            "Epoch 60/100\n",
            "1562/1562 [==============================] - 38s 24ms/step - loss: 0.8048 - accuracy: 0.7215 - val_loss: 0.7061 - val_accuracy: 0.7565\n",
            "Epoch 61/100\n",
            "1562/1562 [==============================] - 38s 24ms/step - loss: 0.8017 - accuracy: 0.7254 - val_loss: 0.7398 - val_accuracy: 0.7490\n",
            "Epoch 62/100\n",
            "1562/1562 [==============================] - 37s 24ms/step - loss: 0.8010 - accuracy: 0.7255 - val_loss: 0.7695 - val_accuracy: 0.7350\n",
            "Epoch 63/100\n",
            "1562/1562 [==============================] - 38s 24ms/step - loss: 0.7992 - accuracy: 0.7227 - val_loss: 0.7007 - val_accuracy: 0.7622\n",
            "Epoch 64/100\n",
            "1562/1562 [==============================] - 37s 24ms/step - loss: 0.8000 - accuracy: 0.7238 - val_loss: 0.7026 - val_accuracy: 0.7666\n",
            "Epoch 65/100\n",
            "1562/1562 [==============================] - 37s 24ms/step - loss: 0.7976 - accuracy: 0.7252 - val_loss: 0.6903 - val_accuracy: 0.7612\n",
            "Epoch 66/100\n",
            "1562/1562 [==============================] - 36s 23ms/step - loss: 0.8010 - accuracy: 0.7276 - val_loss: 0.7179 - val_accuracy: 0.7600\n",
            "Epoch 67/100\n",
            "1562/1562 [==============================] - 37s 24ms/step - loss: 0.7923 - accuracy: 0.7272 - val_loss: 0.7024 - val_accuracy: 0.7658\n",
            "Epoch 68/100\n",
            "1562/1562 [==============================] - 36s 23ms/step - loss: 0.8012 - accuracy: 0.7277 - val_loss: 0.6896 - val_accuracy: 0.7647\n",
            "Epoch 69/100\n",
            "1562/1562 [==============================] - 39s 25ms/step - loss: 0.7993 - accuracy: 0.7269 - val_loss: 0.7851 - val_accuracy: 0.7357\n",
            "Epoch 70/100\n",
            "1562/1562 [==============================] - 38s 24ms/step - loss: 0.7890 - accuracy: 0.7301 - val_loss: 0.7129 - val_accuracy: 0.7567\n",
            "Epoch 71/100\n",
            "1562/1562 [==============================] - 38s 24ms/step - loss: 0.7902 - accuracy: 0.7305 - val_loss: 0.7168 - val_accuracy: 0.7583\n",
            "Epoch 72/100\n",
            "1562/1562 [==============================] - 38s 24ms/step - loss: 0.7922 - accuracy: 0.7302 - val_loss: 0.7322 - val_accuracy: 0.7559\n",
            "Epoch 73/100\n",
            "1562/1562 [==============================] - 37s 24ms/step - loss: 0.7938 - accuracy: 0.7284 - val_loss: 0.7417 - val_accuracy: 0.7548\n",
            "Epoch 74/100\n",
            "1562/1562 [==============================] - 37s 24ms/step - loss: 0.7915 - accuracy: 0.7303 - val_loss: 0.7586 - val_accuracy: 0.7515\n",
            "Epoch 75/100\n",
            "1562/1562 [==============================] - 37s 24ms/step - loss: 0.7931 - accuracy: 0.7290 - val_loss: 0.6810 - val_accuracy: 0.7682\n",
            "Epoch 76/100\n",
            "1562/1562 [==============================] - 37s 24ms/step - loss: 0.7873 - accuracy: 0.7309 - val_loss: 0.6794 - val_accuracy: 0.7662\n",
            "Epoch 77/100\n",
            "1562/1562 [==============================] - 37s 24ms/step - loss: 0.7974 - accuracy: 0.7275 - val_loss: 0.6822 - val_accuracy: 0.7634\n",
            "Epoch 78/100\n",
            "1562/1562 [==============================] - 38s 24ms/step - loss: 0.7822 - accuracy: 0.7335 - val_loss: 0.6613 - val_accuracy: 0.7752\n",
            "Epoch 79/100\n",
            "1562/1562 [==============================] - 37s 24ms/step - loss: 0.7952 - accuracy: 0.7290 - val_loss: 0.6796 - val_accuracy: 0.7687\n",
            "Epoch 80/100\n",
            "1562/1562 [==============================] - 38s 24ms/step - loss: 0.7901 - accuracy: 0.7300 - val_loss: 0.7210 - val_accuracy: 0.7609\n",
            "Epoch 81/100\n",
            "1562/1562 [==============================] - 38s 24ms/step - loss: 0.7908 - accuracy: 0.7320 - val_loss: 0.6865 - val_accuracy: 0.7747\n",
            "Epoch 82/100\n",
            "1562/1562 [==============================] - 38s 24ms/step - loss: 0.7836 - accuracy: 0.7323 - val_loss: 0.6906 - val_accuracy: 0.7661\n",
            "Epoch 83/100\n",
            "1562/1562 [==============================] - 38s 24ms/step - loss: 0.7859 - accuracy: 0.7310 - val_loss: 0.6954 - val_accuracy: 0.7606\n",
            "Epoch 84/100\n",
            "1562/1562 [==============================] - 38s 24ms/step - loss: 0.7880 - accuracy: 0.7296 - val_loss: 0.6953 - val_accuracy: 0.7651\n",
            "Epoch 85/100\n",
            "1562/1562 [==============================] - 37s 24ms/step - loss: 0.7828 - accuracy: 0.7339 - val_loss: 0.6984 - val_accuracy: 0.7677\n",
            "Epoch 86/100\n",
            "1562/1562 [==============================] - 38s 24ms/step - loss: 0.7816 - accuracy: 0.7328 - val_loss: 0.6517 - val_accuracy: 0.7793\n",
            "Epoch 87/100\n",
            "1562/1562 [==============================] - 37s 24ms/step - loss: 0.7798 - accuracy: 0.7326 - val_loss: 0.7357 - val_accuracy: 0.7580\n",
            "Epoch 88/100\n",
            "1562/1562 [==============================] - 37s 24ms/step - loss: 0.7826 - accuracy: 0.7348 - val_loss: 0.7621 - val_accuracy: 0.7475\n",
            "Epoch 89/100\n",
            "1562/1562 [==============================] - 38s 24ms/step - loss: 0.7862 - accuracy: 0.7325 - val_loss: 0.6895 - val_accuracy: 0.7680\n",
            "Epoch 90/100\n",
            "1562/1562 [==============================] - 37s 24ms/step - loss: 0.7843 - accuracy: 0.7327 - val_loss: 0.6799 - val_accuracy: 0.7708\n",
            "Epoch 91/100\n",
            "1562/1562 [==============================] - 38s 24ms/step - loss: 0.7774 - accuracy: 0.7351 - val_loss: 0.7187 - val_accuracy: 0.7586\n",
            "Epoch 92/100\n",
            "1562/1562 [==============================] - 36s 23ms/step - loss: 0.7774 - accuracy: 0.7343 - val_loss: 0.6870 - val_accuracy: 0.7673\n",
            "Epoch 93/100\n",
            "1562/1562 [==============================] - 36s 23ms/step - loss: 0.7837 - accuracy: 0.7339 - val_loss: 0.6860 - val_accuracy: 0.7692\n",
            "Epoch 94/100\n",
            "1562/1562 [==============================] - 37s 23ms/step - loss: 0.7811 - accuracy: 0.7335 - val_loss: 0.6222 - val_accuracy: 0.7898\n",
            "Epoch 95/100\n",
            "1562/1562 [==============================] - 36s 23ms/step - loss: 0.7761 - accuracy: 0.7341 - val_loss: 0.6656 - val_accuracy: 0.7771\n",
            "Epoch 96/100\n",
            "1562/1562 [==============================] - 37s 24ms/step - loss: 0.7814 - accuracy: 0.7336 - val_loss: 0.6973 - val_accuracy: 0.7619\n",
            "Epoch 97/100\n",
            "1562/1562 [==============================] - 37s 23ms/step - loss: 0.7727 - accuracy: 0.7367 - val_loss: 0.6116 - val_accuracy: 0.7930\n",
            "Epoch 98/100\n",
            "1562/1562 [==============================] - 37s 24ms/step - loss: 0.7784 - accuracy: 0.7350 - val_loss: 0.7303 - val_accuracy: 0.7577\n",
            "Epoch 99/100\n",
            "1562/1562 [==============================] - 37s 24ms/step - loss: 0.7754 - accuracy: 0.7359 - val_loss: 0.6568 - val_accuracy: 0.7769\n",
            "Epoch 100/100\n",
            "1562/1562 [==============================] - 37s 23ms/step - loss: 0.7752 - accuracy: 0.7373 - val_loss: 0.7692 - val_accuracy: 0.7415\n"
          ]
        }
      ],
      "source": [
        "if not data_augmentation:\n",
        "    print('Not using data augmentation.')\n",
        "    model.fit(x_train, y_train,\n",
        "              batch_size=batch_size,\n",
        "              epochs=epochs,\n",
        "              validation_data=(x_test, y_test),\n",
        "              shuffle=True, callbacks=[tbCallBack])\n",
        "else:\n",
        "    print('Using real-time data augmentation.')\n",
        "    # This will do preprocessing and realtime data augmentation:\n",
        "    '''\n",
        "    datagen = ImageDataGenerator(\n",
        "        featurewise_center=False,  # set input mean to 0 over the dataset\n",
        "        samplewise_center=False,  # set each sample mean to 0\n",
        "        featurewise_std_normalization=False,  # divide inputs by std of the dataset\n",
        "        samplewise_std_normalization=False,  # divide each input by its std\n",
        "        zca_whitening=False,  # apply ZCA whitening\n",
        "        rotation_range=0,  # randomly rotate images in the range (degrees, 0 to 180)\n",
        "        width_shift_range=0.1,  # randomly shift images horizontally (fraction of total width)\n",
        "        height_shift_range=0.1,  # randomly shift images vertically (fraction of total height)\n",
        "        horizontal_flip=True,  # randomly flip images\n",
        "        vertical_flip=False)  # randomly flip images\n",
        "    '''\n",
        "    datagen = ImageDataGenerator(\n",
        "        featurewise_center=False,  # set input mean to 0 over the dataset\n",
        "        samplewise_center=False,  # set each sample mean to 0\n",
        "        featurewise_std_normalization=False,  # divide inputs by std of the dataset\n",
        "        samplewise_std_normalization=False,  # divide each input by its std\n",
        "        zca_whitening=False,  # apply ZCA whitening\n",
        "        rotation_range=10,  # randomly rotate images in the range (degrees, 0 to 180)\n",
        "        width_shift_range=0.2,  # randomly shift images horizontally (fraction of total width)\n",
        "        height_shift_range=0.2,  # randomly shift images vertically (fraction of total height)\n",
        "        horizontal_flip=True,  # randomly flip images\n",
        "        vertical_flip=False)  # randomly flip images\n",
        "\n",
        "\n",
        "    # Compute quantities required for feature-wise normalization\n",
        "    # (std, mean, and principal components if ZCA whitening is applied).\n",
        "    datagen.fit(x_train)\n",
        "\n",
        "    # Fit the model on the batches generated by datagen.flow().\n",
        "    model.fit_generator(datagen.flow(x_train, y_train,\n",
        "                                     batch_size=batch_size),\n",
        "                        steps_per_epoch=x_train.shape[0] // batch_size,\n",
        "                        epochs=epochs,\n",
        "                        validation_data=(x_test, y_test), callbacks=[tbCallBack])"
      ]
    },
    {
      "cell_type": "code",
      "execution_count": null,
      "metadata": {
        "id": "DXNqT4WUV4fZ",
        "colab": {
          "base_uri": "https://localhost:8080/"
        },
        "outputId": "95a59c76-ab46-492f-8b34-4adb62e5f01b"
      },
      "outputs": [
        {
          "output_type": "stream",
          "name": "stdout",
          "text": [
            "313/313 [==============================] - 1s 3ms/step - loss: 0.7692 - accuracy: 0.7415\n",
            "Test Loss 0.7691643834114075\n",
            "Test Accuracy 0.7415000200271606\n"
          ]
        }
      ],
      "source": [
        "scores=model.evaluate(x_test,y_test,verbose=1)\n",
        "print(\"Test Loss\",scores[0])\n",
        "print(\"Test Accuracy\",scores[1])"
      ]
    }
  ],
  "metadata": {
    "kernelspec": {
      "display_name": "Python 3",
      "name": "python3"
    },
    "language_info": {
      "codemirror_mode": {
        "name": "ipython",
        "version": 3
      },
      "file_extension": ".py",
      "mimetype": "text/x-python",
      "name": "python",
      "nbconvert_exporter": "python",
      "pygments_lexer": "ipython3",
      "version": "3.6.3"
    },
    "colab": {
      "provenance": [],
      "gpuType": "T4",
      "include_colab_link": true
    },
    "accelerator": "GPU"
  },
  "nbformat": 4,
  "nbformat_minor": 0
}